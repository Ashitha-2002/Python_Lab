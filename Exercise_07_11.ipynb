{
  "cells": [
    {
      "cell_type": "markdown",
      "metadata": {
        "id": "view-in-github",
        "colab_type": "text"
      },
      "source": [
        "<a href=\"https://colab.research.google.com/github/Ashitha-2002/Python_Lab/blob/main/Exercise_07_11.ipynb\" target=\"_parent\"><img src=\"https://colab.research.google.com/assets/colab-badge.svg\" alt=\"Open In Colab\"/></a>"
      ]
    },
    {
      "cell_type": "code",
      "execution_count": null,
      "id": "12f1c5b6",
      "metadata": {
        "id": "12f1c5b6",
        "outputId": "d657f0f2-9c83-44b2-939e-7a978e8065a1"
      },
      "outputs": [
        {
          "name": "stdout",
          "output_type": "stream",
          "text": [
            "20 is greater than 10\n"
          ]
        }
      ],
      "source": [
        "a = 10\n",
        "b = 20\n",
        "if a > b :\n",
        "    print(a , \"is greater than\" , b)\n",
        "else :\n",
        "   print(b , \"is greater than\" , a)"
      ]
    },
    {
      "cell_type": "code",
      "execution_count": null,
      "id": "3dbc3a78",
      "metadata": {
        "id": "3dbc3a78",
        "outputId": "ca22ad70-7ad6-4380-c2ec-6748b3cce8b4"
      },
      "outputs": [
        {
          "name": "stdout",
          "output_type": "stream",
          "text": [
            "1\n",
            "2\n",
            "3\n",
            "4\n",
            "5\n",
            "6\n",
            "7\n",
            "8\n",
            "9\n",
            "10\n"
          ]
        }
      ],
      "source": [
        "for i in range(1,11) :\n",
        "    print(i)"
      ]
    },
    {
      "cell_type": "code",
      "execution_count": null,
      "id": "59a40c39",
      "metadata": {
        "id": "59a40c39",
        "outputId": "cd5002f0-2a22-46d9-9251-29ffddf6a7ac"
      },
      "outputs": [
        {
          "name": "stdout",
          "output_type": "stream",
          "text": [
            "3\n",
            "5\n",
            "7\n",
            "9\n"
          ]
        }
      ],
      "source": [
        "n = 1\n",
        "while n < 10 :\n",
        "    n += 1\n",
        "    if n % 2 == 0 :\n",
        "        continue\n",
        "    print(n)"
      ]
    },
    {
      "cell_type": "code",
      "execution_count": null,
      "id": "b96a6c8d",
      "metadata": {
        "id": "b96a6c8d",
        "outputId": "3e0ce1d9-2b93-4722-f327-acb60d785993"
      },
      "outputs": [
        {
          "name": "stdout",
          "output_type": "stream",
          "text": [
            "Enter a string : python\n",
            "python\n",
            "pytho\n",
            "ython\n",
            "pyt\n"
          ]
        }
      ],
      "source": [
        "s = input(\"Enter a string : \")\n",
        "print(s)\n",
        "print(s[:len(s)-1])\n",
        "print(s[1:len(s)])\n",
        "print(s[:len(s)//2])"
      ]
    },
    {
      "cell_type": "code",
      "execution_count": null,
      "id": "cafede43",
      "metadata": {
        "id": "cafede43",
        "outputId": "ce52907d-777c-4676-bf45-009e394f7cb5"
      },
      "outputs": [
        {
          "name": "stdout",
          "output_type": "stream",
          "text": [
            "Enter number of elements of list : 5\n",
            "Enter element : 1\n",
            "Enter element : 2\n",
            "Enter element : 3\n",
            "Enter element : 4\n",
            "Enter element : 5\n",
            "List :  [1, 2, 3, 4, 5]\n",
            "Printing List using for loop\n",
            "1\n",
            "2\n",
            "3\n",
            "4\n",
            "5\n"
          ]
        }
      ],
      "source": [
        "myList = []\n",
        "n = int(input(\"Enter number of elements of list : \"))\n",
        "for i in range(n):\n",
        "    myList.append(int(input(\"Enter element : \")))\n",
        "print(\"List : \", myList)\n",
        "\n",
        "print(\"Printing List using for loop\")\n",
        "for value in myList:\n",
        "    print(value)"
      ]
    },
    {
      "cell_type": "code",
      "execution_count": null,
      "id": "9903e76a",
      "metadata": {
        "id": "9903e76a",
        "outputId": "37b7c4bb-c3cd-4ed9-f3ad-c84448585284"
      },
      "outputs": [
        {
          "name": "stdout",
          "output_type": "stream",
          "text": [
            "Enter number of elements of list : 6\n",
            "Enter element : 3\n",
            "Enter element : 7\n",
            "Enter element : -3\n",
            "Enter element : 1\n",
            "Enter element : 5\n",
            "Enter element : -2\n",
            "List :  [3, 7, -3, 1, 5, -2]\n",
            "Even List :  [-2]\n",
            "Odd List :  [3, 7, -3, 1, 5]\n",
            "Negative List :  [-3, -2]\n",
            "Positive List :  [3, 7, 1, 5]\n"
          ]
        }
      ],
      "source": [
        "#list1 = [2, 1,0,  6, -1, 5 , -8, 12, 9, -3, 0]\n",
        "list1 = []\n",
        "evenList = []\n",
        "oddList =[]\n",
        "negativeList = []\n",
        "positiveList = []\n",
        "\n",
        "n = int(input(\"Enter number of elements of list : \"))\n",
        "for i in range(n):\n",
        "    list1.append(int(input(\"Enter element : \")))\n",
        "\n",
        "for value in list1:\n",
        "    if value < 0 :\n",
        "        negativeList.append(value)\n",
        "    else :\n",
        "        positiveList.append(value)\n",
        "    if value % 2 == 0:\n",
        "        evenList.append(value)\n",
        "    else :\n",
        "        oddList.append(value)\n",
        "print(\"List : \",list1)\n",
        "print(\"Even List : \" , evenList)\n",
        "print(\"Odd List : \" , oddList)\n",
        "print(\"Negative List : \" , negativeList)\n",
        "print(\"Positive List : \" , positiveList)"
      ]
    },
    {
      "cell_type": "code",
      "execution_count": null,
      "id": "6ef65a57",
      "metadata": {
        "id": "6ef65a57",
        "outputId": "bb9b9e02-d463-4945-a20b-acc86742ff77"
      },
      "outputs": [
        {
          "name": "stdout",
          "output_type": "stream",
          "text": [
            "<class 'set'>\n",
            "Enter number of elements of set : 4\n",
            "Enter element : 1\n",
            "Enter element : 1\n",
            "Enter element : 2\n",
            "Enter element : 3\n",
            "Set :  {1, 2, 3}\n"
          ]
        }
      ],
      "source": [
        "mySet = set()\n",
        "print(type(mySet))\n",
        "n = int(input(\"Enter number of elements of set : \"))\n",
        "for i in range(n):\n",
        "    element = int(input(\"Enter element : \"))\n",
        "    mySet.add(element)\n",
        "print(\"Set : \", mySet)"
      ]
    },
    {
      "cell_type": "code",
      "execution_count": null,
      "id": "ffb30652",
      "metadata": {
        "id": "ffb30652",
        "outputId": "0025a354-0e67-42fd-cbda-9ff7517f9b2b"
      },
      "outputs": [
        {
          "name": "stdout",
          "output_type": "stream",
          "text": [
            "<class 'tuple'>\n",
            "Tuple :  (3, 2, 6, 4, 9, 7)\n",
            "First element :  3\n",
            "Tuple Slicing :  (6, 4, 9)\n"
          ]
        }
      ],
      "source": [
        "myTuple = (3,2,6,4,9,7)\n",
        "print(type(myTuple))\n",
        "print(\"Tuple : \", myTuple)\n",
        "print(\"First element : \",myTuple[0])\n",
        "print(\"Tuple Slicing : \", myTuple[2:5])"
      ]
    },
    {
      "cell_type": "code",
      "execution_count": null,
      "id": "ecdc4f46",
      "metadata": {
        "id": "ecdc4f46",
        "outputId": "959977db-af83-4c17-879d-c7ab07e73319"
      },
      "outputs": [
        {
          "name": "stdout",
          "output_type": "stream",
          "text": [
            "Enter number of elements of tuple : 5\n",
            "Enter element : 2\n",
            "Enter element : 4\n",
            "Enter element : 1\n",
            "Enter element : 6\n",
            "Enter element : 5\n",
            "Tuple :  (2, 4, 1, 6, 5)\n",
            "<class 'tuple'>\n"
          ]
        }
      ],
      "source": [
        "list1 = []\n",
        "myTuple = ()\n",
        "n = int(input(\"Enter number of elements of tuple : \"))\n",
        "for i in range(n):\n",
        "    list1.append(int(input(\"Enter element : \")))\n",
        "myTuple = tuple(list1)\n",
        "print(\"Tuple : \", myTuple)\n",
        "print(type(myTuple))"
      ]
    },
    {
      "cell_type": "code",
      "execution_count": null,
      "id": "bec6e693",
      "metadata": {
        "id": "bec6e693",
        "outputId": "49dd850c-6eac-4604-bdaa-855bdc12f49e"
      },
      "outputs": [
        {
          "name": "stdout",
          "output_type": "stream",
          "text": [
            "<class 'dict'>\n",
            "{'Name': 'David', 'age': 21, 'Class': 'MSc'}\n",
            "-----------------------\n",
            "Key :  Name\n",
            "Value :  David\n",
            "-----------------------\n",
            "Key :  age\n",
            "Value :  21\n",
            "-----------------------\n",
            "Key :  Class\n",
            "Value :  MSc\n",
            "-----------------------\n",
            "dict_keys(['Name', 'age', 'Class'])\n",
            "dict_values(['David', 21, 'MSc'])\n"
          ]
        }
      ],
      "source": [
        "myDict = {\"Name\" : \"David\", \"age\" : 21 ,\"Class\" : \"MSc\"}\n",
        "print(type(myDict))\n",
        "print(myDict)\n",
        "print(\"-----------------------\")\n",
        "for key in myDict :\n",
        "    print(\"Key : \",key)\n",
        "    print(\"Value : \", myDict[key])\n",
        "    print(\"-----------------------\")\n",
        "print(myDict.keys())\n",
        "print(myDict.values())"
      ]
    },
    {
      "cell_type": "code",
      "execution_count": null,
      "id": "71b22a33",
      "metadata": {
        "id": "71b22a33"
      },
      "outputs": [],
      "source": []
    }
  ],
  "metadata": {
    "kernelspec": {
      "display_name": "Python 3 (ipykernel)",
      "language": "python",
      "name": "python3"
    },
    "language_info": {
      "codemirror_mode": {
        "name": "ipython",
        "version": 3
      },
      "file_extension": ".py",
      "mimetype": "text/x-python",
      "name": "python",
      "nbconvert_exporter": "python",
      "pygments_lexer": "ipython3",
      "version": "3.9.7"
    },
    "colab": {
      "provenance": [],
      "include_colab_link": true
    }
  },
  "nbformat": 4,
  "nbformat_minor": 5
}