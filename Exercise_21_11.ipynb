{
 "cells": [
  {
   "cell_type": "code",
   "execution_count": 20,
   "id": "4f5e6402",
   "metadata": {},
   "outputs": [
    {
     "name": "stdout",
     "output_type": "stream",
     "text": [
      "Enter the size : 5\n",
      "Enter a number :7\n",
      "Enter a number :3\n",
      "Enter a number :5\n",
      "Enter a number :8\n",
      "Enter a number :2\n",
      "[7, 3, 5, 8, 2]\n",
      "Second largest element in the list is : 7\n"
     ]
    }
   ],
   "source": [
    "numList = []\n",
    "n = int(input(\"Enter the size : \"))\n",
    "for i in range(n):\n",
    "    numList.append(int(input(\"Enter a number :\")))\n",
    "print(numList)\n",
    "numList.sort()\n",
    "print(\"Second largest element in the list is :\",numList[-2])"
   ]
  },
  {
   "cell_type": "code",
   "execution_count": 21,
   "id": "6648444b",
   "metadata": {},
   "outputs": [
    {
     "name": "stdout",
     "output_type": "stream",
     "text": [
      "Enter the size : 6\n",
      "Enter a nmber :5\n",
      "Enter a nmber :2\n",
      "Enter a nmber :1\n",
      "Enter a nmber :5\n",
      "Enter a nmber :7\n",
      "Enter a nmber :5\n",
      "Original List :  [5, 2, 1, 5, 7, 5]\n",
      "After insertion : [5, 2, 9, 1, 5, 7, 5]\n",
      "Sorted List : [1, 2, 5, 5, 5, 7, 9]\n",
      "After Extending : [1, 2, 5, 5, 5, 7, 9, 'Apple', 'Banana', 'Kiwi']\n",
      "After Poping fifth element : [1, 2, 5, 5, 5, 9, 'Apple', 'Banana', 'Kiwi']\n",
      "After Poping last element : [1, 2, 5, 5, 5, 9, 'Apple', 'Banana']\n",
      "After removing element 2: [1, 5, 5, 5, 9, 'Apple', 'Banana']\n",
      "Count of 5 is :  3\n",
      "Index of Apple is :  5\n",
      "Reverse of the list is :  ['Banana', 'Apple', 9, 5, 5, 5, 1]\n"
     ]
    }
   ],
   "source": [
    "list1 = [] \n",
    "fruits = [\"Apple\",\"Banana\",\"Kiwi\"] \n",
    "n = int(input(\"Enter the size : \")) \n",
    "for i in range(n): \n",
    "    list1.append(int(input(\"Enter a nmber :\"))) \n",
    "print(\"Original List : \",list1) \n",
    "list1.insert(2,9) \n",
    "print(\"After insertion :\",list1) \n",
    "list1.sort() \n",
    "print(\"Sorted List :\",list1) \n",
    "list1.extend(fruits) \n",
    "print(\"After Extending :\",list1) \n",
    "list1.pop(5) \n",
    "print(\"After Poping fifth element :\",list1) \n",
    "list1.pop() \n",
    "print(\"After Poping last element :\",list1) \n",
    "list1.remove(2) \n",
    "print(\"After removing element 2:\",list1) \n",
    "print(\"Count of 5 is : \", list1.count(5)) \n",
    "print(\"Index of Apple is : \", list1.index(\"Apple\")) \n",
    "list1.reverse() \n",
    "print(\"Reverse of the list is : \", list1)"
   ]
  },
  {
   "cell_type": "code",
   "execution_count": 18,
   "id": "f174ae9f",
   "metadata": {},
   "outputs": [
    {
     "name": "stdout",
     "output_type": "stream",
     "text": [
      "[3, 5, 1, 6, 7, 9]\n",
      "[3, 5, 1, 6, 7, 9, 2, 4, 6, 8]\n"
     ]
    }
   ],
   "source": [
    "list1 = [3,5,1,6,7,9]\n",
    "print(list1)\n",
    "list1.extend(range(2,10,2))\n",
    "print(list1)"
   ]
  },
  {
   "cell_type": "code",
   "execution_count": 22,
   "id": "a76bdae1",
   "metadata": {},
   "outputs": [
    {
     "name": "stdout",
     "output_type": "stream",
     "text": [
      "Enter the size : 6\n",
      "Enter a number :7\n",
      "Enter a number :8\n",
      "Enter a number :3\n",
      "Enter a number :4\n",
      "Enter a number :1\n",
      "Enter a number :5\n",
      "Original List [7, 8, 3, 4, 1, 5]\n",
      "Even List :  [8, 4]\n",
      "Odd List :  [7, 3, 1, 5]\n"
     ]
    }
   ],
   "source": [
    "numList = []\n",
    "evenList = []\n",
    "oddList = []\n",
    "n = int(input(\"Enter the size : \"))\n",
    "for i in range(n):\n",
    "    numList.append(int(input(\"Enter a number :\")))\n",
    "print(\"Original List\" ,numList)\n",
    "\n",
    "for i in numList:\n",
    "    if i % 2 == 0:\n",
    "        evenList.append(i)\n",
    "    else:\n",
    "        oddList.append(i)\n",
    "        \n",
    "print(\"Even List : \",evenList)\n",
    "print(\"Odd List : \",oddList)"
   ]
  },
  {
   "cell_type": "code",
   "execution_count": 23,
   "id": "cefb00e4",
   "metadata": {},
   "outputs": [
    {
     "name": "stdout",
     "output_type": "stream",
     "text": [
      "Bye!!!\n"
     ]
    }
   ],
   "source": [
    "def func1():\n",
    "    for i in range(10):\n",
    "        pass\n",
    "    print(\"Bye!!!\")\n",
    "func1()"
   ]
  },
  {
   "cell_type": "code",
   "execution_count": 66,
   "id": "d3b75cda",
   "metadata": {},
   "outputs": [
    {
     "name": "stdout",
     "output_type": "stream",
     "text": [
      "[-5]\n",
      "True\n",
      "True\n"
     ]
    }
   ],
   "source": [
    "nums = [-5]\n",
    "print(nums)\n",
    "print(any(nums))\n",
    "print(all(nums))"
   ]
  },
  {
   "cell_type": "code",
   "execution_count": 29,
   "id": "328fce63",
   "metadata": {},
   "outputs": [
    {
     "name": "stdout",
     "output_type": "stream",
     "text": [
      "[101, 105, 108]\n",
      "['John', 'Delma', 'Jim']\n",
      "['Manager', 'Sales', 'Accountant']\n",
      "(101, 'John', 'Manager')\n",
      "(105, 'Delma', 'Sales')\n",
      "(108, 'Jim', 'Accountant')\n"
     ]
    }
   ],
   "source": [
    "empNo = [101, 105, 108]\n",
    "empNames = [\"John\", \"Delma\", \"Jim\"]\n",
    "empRoles = [\"Manager\", \"Sales\", \"Accountant\"]\n",
    "print(empNo)\n",
    "print(empNames)\n",
    "print(empRoles)\n",
    "empDetails = zip(empNo, empNames, empRoles)\n",
    "for record in empDetails:\n",
    "    print(record)"
   ]
  },
  {
   "cell_type": "code",
   "execution_count": 59,
   "id": "ed594944",
   "metadata": {},
   "outputs": [
    {
     "name": "stdout",
     "output_type": "stream",
     "text": [
      "Enter the value of a : 1\n",
      "Enter the value of b : 2\n",
      "Enter the value of c : 3\n",
      "Quadratic equation has no real roots\n",
      "Root1 =  -1.0 + 1.41 i\n",
      "Root2 =  -1.0 - 1.41 i\n"
     ]
    }
   ],
   "source": [
    "import math\n",
    "\n",
    "def quadraticEquation(a, b, c) :\n",
    "    discriminant = b ** 2 - 4 * a * c\n",
    "    if discriminant == 0:\n",
    "        root = -b / (2 * a)\n",
    "        print(\"Quadratic equation has two real, identical roots\")\n",
    "        print(\"Root = \", root)\n",
    "    elif discriminant > 0:\n",
    "        root1 = (-b + math.sqrt(discriminant) ) / (2 * a)\n",
    "        root2 = (-b - math.sqrt(discriminant) ) / (2 * a)\n",
    "        print(\"Quadratic equation has two real, distinct (different) roots\")\n",
    "        print(\"Root1 = {:.2f}\".format(root1))\n",
    "        print(\"Root2 = {:.2f}\".format(root2))\n",
    "    else:\n",
    "        positveSqrt = math.sqrt(abs(discriminant))\n",
    "        print(\"Quadratic equation has no real roots\")\n",
    "        print(\"Root1 = \", -b / (2 * a) , \"+ {:.2f}\".format(positveSqrt / (2 * a)), \"i\")\n",
    "        print(\"Root2 = \", -b / (2 * a) , \"- {:.2f}\".format(positveSqrt / (2 * a)), \"i\")\n",
    "        \n",
    "a = float(input(\"Enter the value of a : \"))\n",
    "b = float(input(\"Enter the value of b : \"))\n",
    "c = float(input(\"Enter the value of c : \"))\n",
    "quadraticEquation(a,b,c)"
   ]
  },
  {
   "cell_type": "code",
   "execution_count": 78,
   "id": "0b48a00a",
   "metadata": {},
   "outputs": [
    {
     "name": "stdout",
     "output_type": "stream",
     "text": [
      "{'RollNo': 101, 'Name': 'John', 'Class': '1st MSc Cs', 'Marks': 450}\n",
      "Class : 1st MSc Cs\n",
      "Name :  John\n",
      "Age :  None\n",
      "{'RollNo': 105, 'Name': 'John', 'Class': '1st MSc Cs', 'Marks': 450}\n",
      "{'RollNo': 105, 'Name': 'John', 'Class': '1st MSc Cs'}\n",
      "{}\n",
      "{'RollNo': 102, 'Name': 'Jim', 'Class': 'I MSc', 'Marks': 300, 'Age': 22}\n",
      "{'RollNo': 102, 'Name': 'Jim', 'Class': 'I MSc', 'Age': 22}\n",
      "{'RollNo': 102, 'Name': 'Jim', 'Class': 'I MSc'}\n",
      "RollNo\n",
      "Name\n",
      "Class\n",
      "RollNo  :  102\n",
      "Name  :  Jim\n",
      "Class  :  I MSc\n",
      "RollNo  :  102\n",
      "Name  :  Jim\n",
      "Class  :  I MSc\n",
      "Keys :  dict_keys(['RollNo', 'Name', 'Class'])\n",
      "Values :  dict_values([102, 'Jim', 'I MSc'])\n"
     ]
    }
   ],
   "source": [
    "studentDetail = {\"RollNo\" : 101, \"Name\" : \"John\", \"Class\" : \"1st MSc Cs\", \"Marks\" : 450}\n",
    "print(studentDetail)\n",
    "print(\"Class :\", studentDetail['Class'])\n",
    "#print(studentDetail['age'])\n",
    "print(\"Name : \", studentDetail.get('Name'))\n",
    "print(\"Age : \", studentDetail.get('Age'))\n",
    "studentDetail['RollNo'] = 105\n",
    "print(studentDetail)\n",
    "studentDetail.pop(\"Marks\")\n",
    "print(studentDetail)\n",
    "studentDetail.clear()\n",
    "print(studentDetail)\n",
    "studentDetail[\"RollNo\"] = 102\n",
    "studentDetail[\"Name\"] = \"Jim\"\n",
    "studentDetail[\"Class\"] = \"I MSc\"\n",
    "studentDetail[\"Marks\"] = 300\n",
    "studentDetail[\"Age\"] = 22\n",
    "print(studentDetail)\n",
    "del studentDetail[\"Marks\"]\n",
    "print(studentDetail)\n",
    "studentDetail.popitem()\n",
    "print(studentDetail)\n",
    "\n",
    "for key in studentDetail:\n",
    "    print(key)\n",
    "\n",
    "for key in studentDetail:\n",
    "    value = studentDetail[key]\n",
    "    print(key, \" : \", value)\n",
    "    \n",
    "for key,value in studentDetail.items():\n",
    "    print(key, \" : \", value)\n",
    "\n",
    "print(\"Keys : \",studentDetail.keys())\n",
    "print(\"Values : \",studentDetail.values())"
   ]
  },
  {
   "cell_type": "code",
   "execution_count": null,
   "id": "2f6a230b",
   "metadata": {},
   "outputs": [],
   "source": []
  }
 ],
 "metadata": {
  "kernelspec": {
   "display_name": "Python 3 (ipykernel)",
   "language": "python",
   "name": "python3"
  },
  "language_info": {
   "codemirror_mode": {
    "name": "ipython",
    "version": 3
   },
   "file_extension": ".py",
   "mimetype": "text/x-python",
   "name": "python",
   "nbconvert_exporter": "python",
   "pygments_lexer": "ipython3",
   "version": "3.9.7"
  }
 },
 "nbformat": 4,
 "nbformat_minor": 5
}
