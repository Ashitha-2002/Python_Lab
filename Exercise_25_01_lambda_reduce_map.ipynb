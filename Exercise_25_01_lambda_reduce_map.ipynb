{
 "cells": [
  {
   "cell_type": "code",
   "execution_count": 1,
   "id": "2d84d43d",
   "metadata": {},
   "outputs": [
    {
     "data": {
      "text/plain": [
       "9"
      ]
     },
     "execution_count": 1,
     "metadata": {},
     "output_type": "execute_result"
    }
   ],
   "source": [
    "square_func = lambda x : x**2\n",
    "square_func(3)"
   ]
  },
  {
   "cell_type": "code",
   "execution_count": 2,
   "id": "70e27aea",
   "metadata": {},
   "outputs": [
    {
     "name": "stdout",
     "output_type": "stream",
     "text": [
      "[1, 4, 7, 2, 8, 10]\n"
     ]
    }
   ],
   "source": [
    "nums = [0, 1, 4, 7, 2, 8, 10]\n",
    "nums = list(filter(lambda x: x != 0, nums))\n",
    "print(nums)"
   ]
  },
  {
   "cell_type": "code",
   "execution_count": 5,
   "id": "8a57359c",
   "metadata": {},
   "outputs": [
    {
     "name": "stdout",
     "output_type": "stream",
     "text": [
      "[0, 1, 4, 2, 2, 3, 0]\n"
     ]
    }
   ],
   "source": [
    "nums = [0, 1, 4, 7, 2, 8, 10]\n",
    "nums = list(map(lambda x: x %5, nums))\n",
    "print(nums)"
   ]
  },
  {
   "cell_type": "code",
   "execution_count": 6,
   "id": "6c887f45",
   "metadata": {},
   "outputs": [
    {
     "name": "stdout",
     "output_type": "stream",
     "text": [
      "[3.7416573867739413, 9.1104335791443, 4.47213595499958, 13.45362404707371]\n"
     ]
    }
   ],
   "source": [
    "from math import sqrt\n",
    "points = [(2,1,3),(5,7,-3),(2,4,0),(9,6,8)]\n",
    "def distance(point):\n",
    "    x, y,z = point\n",
    "    return sqrt(x**2+y**2+z**2)\n",
    "distances = list(map(distance, points))\n",
    "print(distances)"
   ]
  },
  {
   "cell_type": "code",
   "execution_count": 7,
   "id": "c6a18c85",
   "metadata": {},
   "outputs": [
    {
     "name": "stdout",
     "output_type": "stream",
     "text": [
      "[(((((((1, 2), 3), 4), 5), 6), 7), 8), 9]\n"
     ]
    }
   ],
   "source": [
    "from functools import reduce\n",
    "nums = [1, 2, 3, 4, 5, 6, 7, 8, 9]\n",
    "nums = list(reduce(lambda x,y : (x,y), nums))\n",
    "print(nums)"
   ]
  },
  {
   "cell_type": "code",
   "execution_count": 8,
   "id": "b3a0b535",
   "metadata": {},
   "outputs": [
    {
     "name": "stdout",
     "output_type": "stream",
     "text": [
      "5.0\n"
     ]
    }
   ],
   "source": [
    "from functools import reduce\n",
    "nums = [1, 2, 3, 4, 5, 6, 7, 8, 9]\n",
    "num_sum = reduce(lambda x,y : x+y, nums) / len(nums)\n",
    "print(num_sum)"
   ]
  },
  {
   "cell_type": "code",
   "execution_count": null,
   "id": "0f229540",
   "metadata": {},
   "outputs": [],
   "source": []
  }
 ],
 "metadata": {
  "kernelspec": {
   "display_name": "Python 3 (ipykernel)",
   "language": "python",
   "name": "python3"
  },
  "language_info": {
   "codemirror_mode": {
    "name": "ipython",
    "version": 3
   },
   "file_extension": ".py",
   "mimetype": "text/x-python",
   "name": "python",
   "nbconvert_exporter": "python",
   "pygments_lexer": "ipython3",
   "version": "3.9.7"
  }
 },
 "nbformat": 4,
 "nbformat_minor": 5
}
