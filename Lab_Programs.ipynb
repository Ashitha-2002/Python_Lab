{
 "cells": [
  {
   "cell_type": "code",
   "execution_count": null,
   "metadata": {
    "id": "70505fc8",
    "outputId": "d55a73a3-8616-4b71-ce95-3fa066b34c83"
   },
   "outputs": [
    {
     "name": "stdout",
     "output_type": "stream",
     "text": [
      "1. Area and Perimeter of Circle\n",
      "2. Area and Perimeter of Triangle\n",
      "3. Area and Perimeter of Rectangle\n",
      "4. Exit\n",
      "Enter your choice : 1\n",
      "Enter radius : 3\n",
      "Area of Circle : 28.27\n",
      "Perimeter of Circle : 18.85\n",
      "1. Area and Perimeter of Circle\n",
      "2. Area and Perimeter of Triangle\n",
      "3. Area and Perimeter of Rectangle\n",
      "4. Exit\n",
      "Enter your choice : 2\n",
      "Enter height : 5\n",
      "Enter base value : 4\n",
      "Enter side 1 value : 3.8\n",
      "Enter side 2 value : 4.3\n",
      "Area of Triangle : 10.00 \n",
      "Perimeter of Triangle : 12.10 \n",
      "1. Area and Perimeter of Circle\n",
      "2. Area and Perimeter of Triangle\n",
      "3. Area and Perimeter of Rectangle\n",
      "4. Exit\n",
      "Enter your choice : 3\n",
      "Enter length : 7\n",
      "Enter breadth : 5.5\n",
      "Area of Rectangle : 38.50 \n",
      "Perimeter of Rectangle : 25.00 \n",
      "1. Area and Perimeter of Circle\n",
      "2. Area and Perimeter of Triangle\n",
      "3. Area and Perimeter of Rectangle\n",
      "4. Exit\n",
      "Enter your choice : 4\n"
     ]
    }
   ],
   "source": [
    "import math\n",
    "def circleArea(r) :\n",
    "    return (math.pi) * r ** 2\n",
    "def circlePerimeter(r) :\n",
    "    return 2 * (math.pi) * r\n",
    "\n",
    "def triangleArea(b , h) :\n",
    "     return 0.5 * b * h\n",
    "def trianglePerimeter(base, s1, s2) :\n",
    "    return base + s1 + s2\n",
    "\n",
    "def rectangleArea(l , b) :\n",
    "    return l * b\n",
    "def rectanglePerimter(l , b) :\n",
    "    return 2 * (l + b)\n",
    "\n",
    "while(1) :\n",
    "    print(\"1. Area and Perimeter of Circle\\n2. Area and Perimeter of Triangle\\n3. Area and Perimeter of Rectangle\\n4. Exit\")\n",
    "    choice = int(input(\"Enter your choice : \"))\n",
    "    if choice == 1:\n",
    "        radius = float(input(\"Enter radius : \"))\n",
    "        print(\"Area of Circle : {:.2f}\".format(circleArea(radius)))\n",
    "        print(\"Perimeter of Circle : {:.2f}\".format(circlePerimeter(radius)))\n",
    "    elif choice == 2:\n",
    "        height = float(input(\"Enter height : \"))\n",
    "        base = float(input(\"Enter base value : \"))\n",
    "        side1 = float(input(\"Enter side 1 value : \"))\n",
    "        side2 = float(input(\"Enter side 2 value : \"))\n",
    "        print(\"Area of Triangle : %.2f \" % triangleArea(base , height))\n",
    "        print(\"Perimeter of Triangle : %.2f \" % trianglePerimeter(base , side1, side2))\n",
    "    elif choice == 3:\n",
    "        length = float(input(\"Enter length : \"))\n",
    "        breadth = float(input(\"Enter breadth : \"))\n",
    "        print(\"Area of Rectangle : %.2f \" % rectangleArea(length , breadth))\n",
    "        print(\"Perimeter of Rectangle : %.2f \" % rectanglePerimter(length , breadth))\n",
    "    elif choice == 4:\n",
    "        break\n",
    "    else:\n",
    "        print(\"Invalid choice. Please enter valid number\")"
   ]
  },
  {
   "cell_type": "code",
   "execution_count": null,
   "metadata": {
    "id": "74b8d586",
    "outputId": "3737f8ea-299b-4778-83d0-8c5a1bd928d7"
   },
   "outputs": [
    {
     "name": "stdout",
     "output_type": "stream",
     "text": [
      "Enter how many natural numbers : 10\n",
      "Natural numbers are\n",
      "1 2 3 4 5 6 7 8 9 10 \n",
      "Sum is :  55\n"
     ]
    }
   ],
   "source": [
    "numSum = 0\n",
    "i = 1\n",
    "num = int(input(\"Enter how many natural numbers : \"))\n",
    "print(\"Natural numbers are\")\n",
    "while i <= num:\n",
    "    print(i, end = \" \")\n",
    "    numSum += i\n",
    "    i += 1\n",
    "print(\"\\nSum is : \",numSum)"
   ]
  },
  {
   "cell_type": "code",
   "execution_count": null,
   "metadata": {
    "id": "d4d24471",
    "outputId": "474ccd2b-7af8-47dc-d47a-23570b480f42"
   },
   "outputs": [
    {
     "name": "stdout",
     "output_type": "stream",
     "text": [
      "Enter the value of a : 1\n",
      "Enter the value of b : 2\n",
      "Enter the value of c : 3\n",
      "Quadratic equation has no real roots\n",
      "Root1 =  -1.0 + 1.41 i\n",
      "Root2 =  -1.0 - 1.41 i\n"
     ]
    }
   ],
   "source": [
    "import math\n",
    "\n",
    "def quadraticEquation(a, b, c) :\n",
    "    discriminant = b ** 2 - 4 * a * c\n",
    "    if discriminant == 0:\n",
    "        root = -b / (2 * a)\n",
    "        print(\"Quadratic equation has two real, identical roots\")\n",
    "        print(\"Root = \", root)\n",
    "    elif discriminant > 0:\n",
    "        root1 = (-b + math.sqrt(discriminant) ) / (2 * a)\n",
    "        root2 = (-b - math.sqrt(discriminant) ) / (2 * a)\n",
    "        print(\"Quadratic equation has two real, distinct (different) roots\")\n",
    "        print(\"Root1 = {:.2f}\".format(root1))\n",
    "        print(\"Root2 = {:.2f}\".format(root2))\n",
    "    else:\n",
    "        positveSqrt = math.sqrt(abs(discriminant))\n",
    "        print(\"Quadratic equation has no real roots\")\n",
    "        print(\"Root1 = \", -b / (2 * a) , \"+ {:.2f}\".format(positveSqrt / (2 * a)), \"i\")\n",
    "        print(\"Root2 = \", -b / (2 * a) , \"- {:.2f}\".format(positveSqrt / (2 * a)), \"i\")\n",
    "\n",
    "a = float(input(\"Enter the value of a : \"))\n",
    "b = float(input(\"Enter the value of b : \"))\n",
    "c = float(input(\"Enter the value of c : \"))\n",
    "quadraticEquation(a,b,c)"
   ]
  },
  {
   "cell_type": "code",
   "execution_count": 1,
   "metadata": {
    "colab": {
     "base_uri": "https://localhost:8080/"
    },
    "id": "14bf4854",
    "outputId": "a4500237-e293-4ded-f56c-64ce5082d1be"
   },
   "outputs": [
    {
     "name": "stdout",
     "output_type": "stream",
     "text": [
      "Enter the size of the list : 6\n",
      "Enter a number : 7\n",
      "Enter a number : -5\n",
      "Enter a number : 0\n",
      "Enter a number : -6\n",
      "Enter a number : -8\n",
      "Enter a number : -1\n",
      "List is :  [7, -5, 0, -6, -8, -1]\n",
      "Second largest element of the list is :  0\n"
     ]
    }
   ],
   "source": [
    "list1 = []\n",
    "n = int(input(\"Enter the size of the list : \"))\n",
    "for i in range(n) :\n",
    "    list1.append(int(input(\"Enter a number : \")))\n",
    "largest = list1[0]\n",
    "secondLargest = 0\n",
    "for i in list1 :\n",
    "    if i > largest:\n",
    "        secondLargest = largest\n",
    "        largest = i\n",
    "    elif i > secondLargest and (i < largest or i < 0):\n",
    "        secondLargest = i\n",
    "\n",
    "print(\"List is : \",list1)\n",
    "print(\"Second largest element of the list is : \",secondLargest)"
   ]
  },
  {
   "cell_type": "code",
   "execution_count": null,
   "metadata": {
    "id": "b503a40d",
    "outputId": "d90d3d43-d259-4b41-848b-bb77211c646b"
   },
   "outputs": [
    {
     "name": "stdout",
     "output_type": "stream",
     "text": [
      "Enter the value of n : 4\n",
      "Sum of series is : 2.71\n"
     ]
    }
   ],
   "source": [
    "n = int(input(\"Enter the value of n : \"))\n",
    "sumOfSeries = 1\n",
    "\n",
    "for i in range(1,n+1) :\n",
    "    fact = 1\n",
    "    for j in range(1, i+1) :\n",
    "            fact *= j\n",
    "    sumOfSeries += 1 / fact\n",
    "print(\"Sum of series is : {:.2f}\".format(sumOfSeries))"
   ]
  },
  {
   "cell_type": "code",
   "execution_count": null,
   "metadata": {
    "id": "6efbad37",
    "outputId": "fb11660f-0235-41e9-ef24-8d0f6dd05aaf"
   },
   "outputs": [
    {
     "name": "stdout",
     "output_type": "stream",
     "text": [
      "1. Addition\n",
      "2. Substraction\n",
      "3. Multiplication\n",
      "4. Division\n",
      "5. Exit\n",
      "Enter your choice : 1\n",
      "Enter the first number : 5\n",
      "Enter the second number : 4.2\n",
      "The sum of given two numbers is :  9.2\n",
      "1. Addition\n",
      "2. Substraction\n",
      "3. Multiplication\n",
      "4. Division\n",
      "5. Exit\n",
      "Enter your choice : 2\n",
      "Enter the first number : 4\n",
      "Enter the second number : 7.2\n",
      "The difference of given two numbers is :  -3.2\n",
      "1. Addition\n",
      "2. Substraction\n",
      "3. Multiplication\n",
      "4. Division\n",
      "5. Exit\n",
      "Enter your choice : 3\n",
      "Enter the first number : 5.2\n",
      "Enter the second number : 3\n",
      "The product of given two numbers is :  15.600000000000001\n",
      "1. Addition\n",
      "2. Substraction\n",
      "3. Multiplication\n",
      "4. Division\n",
      "5. Exit\n",
      "Enter your choice : 4\n",
      "Enter the first number : 15\n",
      "Enter the second number : 2\n",
      "The quotient of given two numbers is :  7.5\n",
      "1. Addition\n",
      "2. Substraction\n",
      "3. Multiplication\n",
      "4. Division\n",
      "5. Exit\n",
      "Enter your choice : 5\n"
     ]
    }
   ],
   "source": [
    "def addition(num1, num2) :\n",
    "    return num1 + num2\n",
    "def substraction(num1, num2) :\n",
    "    return num1 - num2\n",
    "def multiplication(num1, num2) :\n",
    "    return num1 * num2\n",
    "def division(num1, num2) :\n",
    "    return num1 / num2\n",
    "\n",
    "while(1) :\n",
    "    print(\"1. Addition\\n2. Substraction\\n3. Multiplication\\n4. Division\\n5. Exit\")\n",
    "    choice = int(input(\"Enter your choice : \"))\n",
    "\n",
    "    if choice == 1:\n",
    "        n1 = float(input(\"Enter the first number : \"))\n",
    "        n2 = float(input(\"Enter the second number : \"))\n",
    "        print(\"The sum of given two numbers is : \",addition(n1,n2))\n",
    "    elif choice == 2:\n",
    "        n1 = float(input(\"Enter the first number : \"))\n",
    "        n2 = float(input(\"Enter the second number : \"))\n",
    "        print(\"The difference of given two numbers is : \",substraction(n1,n2))\n",
    "    elif choice == 3:\n",
    "        n1 = float(input(\"Enter the first number : \"))\n",
    "        n2 = float(input(\"Enter the second number : \"))\n",
    "        print(\"The product of given two numbers is : \",multiplication(n1,n2))\n",
    "    elif choice == 4:\n",
    "        n1 = float(input(\"Enter the first number : \"))\n",
    "        n2 = float(input(\"Enter the second number : \"))\n",
    "        print(\"The quotient of given two numbers is : \",division(n1,n2))\n",
    "    elif choice == 5:\n",
    "        break\n",
    "    else :\n",
    "        print(\"Invalid choice. Please enter valid option\")"
   ]
  },
  {
   "cell_type": "code",
   "execution_count": null,
   "metadata": {
    "id": "9b625439"
   },
   "outputs": [],
   "source": []
  }
 ],
 "metadata": {
  "colab": {
   "provenance": []
  },
  "kernelspec": {
   "display_name": "Python 3",
   "language": "python",
   "name": "python3"
  },
  "language_info": {
   "codemirror_mode": {
    "name": "ipython",
    "version": 3
   },
   "file_extension": ".py",
   "mimetype": "text/x-python",
   "name": "python",
   "nbconvert_exporter": "python",
   "pygments_lexer": "ipython3",
   "version": "3.8.3"
  }
 },
 "nbformat": 4,
 "nbformat_minor": 5
}
