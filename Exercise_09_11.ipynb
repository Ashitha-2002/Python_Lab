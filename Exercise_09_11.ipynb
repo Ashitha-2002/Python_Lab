{
 "cells": [
  {
   "cell_type": "code",
   "execution_count": 5,
   "id": "d2ee3f3a",
   "metadata": {},
   "outputs": [
    {
     "name": "stdout",
     "output_type": "stream",
     "text": [
      "Enter number of elements : 6\n",
      "Enter a number : 2\n",
      "Enter a number : 1\n",
      "Enter a number : 2\n",
      "Enter a number : 1\n",
      "Enter a number : 6\n",
      "Enter a number : 1\n",
      "Original array :  [2, 1, 2, 1, 6, 1]\n",
      "Unique elements in given list :  [2, 1, 6]\n"
     ]
    }
   ],
   "source": [
    "numList = []\n",
    "n = int(input(\"Enter number of elements : \"))\n",
    "for i in range(n) :\n",
    "    numList.append(int(input(\"Enter a number : \")))\n",
    "print(\"Original array : \",numList)\n",
    "uniqueEleList = []\n",
    "for value in numList :\n",
    "    if value not in uniqueEleList :\n",
    "        uniqueEleList.append(value)\n",
    "print(\"Unique elements in given list : \",uniqueEleList)"
   ]
  },
  {
   "cell_type": "code",
   "execution_count": 6,
   "id": "b6900b16",
   "metadata": {},
   "outputs": [
    {
     "name": "stdout",
     "output_type": "stream",
     "text": [
      "5,2,1,6,3,2,1,5\n",
      "Original array :  [5, 2, 1, 6, 3, 2, 1, 5]\n",
      "Unique elements in given list :  [5, 2, 1, 6, 3]\n"
     ]
    }
   ],
   "source": [
    "numList = []\n",
    "numList = list(map(int, input().split(',')))\n",
    "print(\"Original array : \",numList)\n",
    "uniqueEleList = []\n",
    "for value in numList :\n",
    "    if value not in uniqueEleList :\n",
    "        uniqueEleList.append(value)\n",
    "print(\"Unique elements in given list : \",uniqueEleList)"
   ]
  },
  {
   "cell_type": "code",
   "execution_count": 13,
   "id": "5902aa57",
   "metadata": {},
   "outputs": [
    {
     "name": "stdout",
     "output_type": "stream",
     "text": [
      "1. Area and Perimeter of Circle\n",
      "2. Area and Perimeter of Triangle\n",
      "3. Area and Perimeter of Rectangle\n",
      "4. Exit\n",
      "Enter your choice : 1\n",
      "Enter radius : 3.2\n",
      "Area of Circle : 32.17\n",
      "Perimeter of Circle : 20.11\n",
      "1. Area and Perimeter of Circle\n",
      "2. Area and Perimeter of Triangle\n",
      "3. Area and Perimeter of Rectangle\n",
      "4. Exit\n",
      "Enter your choice : 2\n",
      "Enter height : 6\n",
      "Enter base value : 6.5\n",
      "Enter side 1 value : 4\n",
      "Enter side 1 value : 4.8\n",
      "Area of Triangle : 19.50 \n",
      "Perimeter of Triangle : 15.30 \n",
      "1. Area and Perimeter of Circle\n",
      "2. Area and Perimeter of Triangle\n",
      "3. Area and Perimeter of Rectangle\n",
      "4. Exit\n",
      "Enter your choice : 3\n",
      "Enter length : 5\n",
      "Enter breadth : 3.8\n",
      "Area of Rectangle : 19.00 \n",
      "Perimeter of Rectangle : 17.60 \n",
      "1. Area and Perimeter of Circle\n",
      "2. Area and Perimeter of Triangle\n",
      "3. Area and Perimeter of Rectangle\n",
      "4. Exit\n",
      "Enter your choice : 4\n"
     ]
    }
   ],
   "source": [
    "import math\n",
    "def circleArea(r) :\n",
    "    return (math.pi) * r ** 2\n",
    "def circlePerimeter(r) :\n",
    "    return 2 * (math.pi) * r\n",
    "\n",
    "def triangleArea(b , h) :\n",
    "     return 0.5 * b * h\n",
    "def trianglePerimeter(base, s1, s2) :\n",
    "    return base + s1 + s2\n",
    "\n",
    "def rectangleArea(l , b) :\n",
    "    return l * b\n",
    "def rectanglePerimter(l , b) :\n",
    "    return 2 * (l + b)\n",
    "\n",
    "while(1) :\n",
    "    print(\"1. Area and Perimeter of Circle\\n2. Area and Perimeter of Triangle\\n3. Area and Perimeter of Rectangle\\n4. Exit\")\n",
    "    choice = int(input(\"Enter your choice : \"))\n",
    "    if choice == 1: \n",
    "        radius = float(input(\"Enter radius : \"))\n",
    "        print(\"Area of Circle : {:.2f}\".format(circleArea(radius)))\n",
    "        print(\"Perimeter of Circle : {:.2f}\".format(circlePerimeter(radius)))\n",
    "    elif choice == 2:\n",
    "        height = float(input(\"Enter height : \"))\n",
    "        base = float(input(\"Enter base value : \"))\n",
    "        side1 = float(input(\"Enter side 1 value : \"))\n",
    "        side2 = float(input(\"Enter side 1 value : \"))\n",
    "        print(\"Area of Triangle : %.2f \" % triangleArea(base , height))\n",
    "        print(\"Perimeter of Triangle : %.2f \" % trianglePerimeter(base , side1, side2))\n",
    "    elif choice == 3:\n",
    "        length = float(input(\"Enter length : \"))\n",
    "        breadth = float(input(\"Enter breadth : \"))\n",
    "        print(\"Area of Rectangle : %.2f \" % rectangleArea(length , breadth))\n",
    "        print(\"Perimeter of Rectangle : %.2f \" % rectanglePerimter(length , breadth))\n",
    "    elif choice == 4:\n",
    "        break\n",
    "    else:\n",
    "        print(\"Invalid choice. Please enter valid number\")"
   ]
  },
  {
   "cell_type": "code",
   "execution_count": 40,
   "id": "f6d65883",
   "metadata": {},
   "outputs": [
    {
     "name": "stdout",
     "output_type": "stream",
     "text": [
      "Enter a string : welcome to manglore\n",
      "Vowles in the string : \n",
      "e o e o a o e "
     ]
    }
   ],
   "source": [
    "str1 = input(\"Enter a string : \")\n",
    "print(\"Vowles in the string : \")\n",
    "for char in str1 :\n",
    "    if char.lower() in 'aeiou' : \n",
    "        print(char, end = \" \") "
   ]
  },
  {
   "cell_type": "code",
   "execution_count": 34,
   "id": "d5183b9d",
   "metadata": {},
   "outputs": [
    {
     "name": "stdout",
     "output_type": "stream",
     "text": [
      "Enter a string : welocme\n",
      "Vowles in the string : \n",
      "e o "
     ]
    }
   ],
   "source": [
    "str1 = input(\"Enter a string : \")\n",
    "print(\"Vowles in the string : \")\n",
    "for char in 'aeiou':\n",
    "    if char in str1:\n",
    "        print(char, end = \" \") "
   ]
  },
  {
   "cell_type": "code",
   "execution_count": 42,
   "id": "7b32c811",
   "metadata": {},
   "outputs": [
    {
     "name": "stdout",
     "output_type": "stream",
     "text": [
      "Enter a string : welcome\n",
      "Vowel Count =  3\n"
     ]
    }
   ],
   "source": [
    "str1 = input(\"Enter a string : \")\n",
    "vowelCount = 0\n",
    "for char in str1 :\n",
    "    if char.lower() in 'aeiou' :\n",
    "        vowelCount += 1\n",
    "print(\"Vowel Count = \", vowelCount)"
   ]
  },
  {
   "cell_type": "code",
   "execution_count": 33,
   "id": "940938f1",
   "metadata": {},
   "outputs": [
    {
     "name": "stdout",
     "output_type": "stream",
     "text": [
      "Enter a string : welcome\n",
      "a Occured 0 times\n",
      "e Occured 2 times\n",
      "i Occured 0 times\n",
      "o Occured 1 times\n",
      "u Occured 0 times\n"
     ]
    }
   ],
   "source": [
    "str1 = input(\"Enter a string : \")\n",
    "aCount = 0\n",
    "eCount = 0\n",
    "iCount = 0\n",
    "oCount = 0\n",
    "uCount = 0\n",
    "for char in str1 :\n",
    "    if char.lower() == 'a' : \n",
    "        aCount += 1\n",
    "    elif char.lower() == 'e' :\n",
    "        eCount += 1\n",
    "    elif char.lower() == 'i' :\n",
    "        iCount += 1\n",
    "    elif char.lower() == 'o' :\n",
    "        oCount += 1\n",
    "    elif char.lower() == 'u' :\n",
    "        uCount += 1\n",
    "print(\"a Occured\",aCount, \"times\")\n",
    "print(\"e Occured\",eCount, \"times\")\n",
    "print(\"i Occured\",iCount, \"times\")\n",
    "print(\"o Occured\",oCount, \"times\")\n",
    "print(\"u Occured\",uCount, \"times\")"
   ]
  },
  {
   "cell_type": "code",
   "execution_count": 4,
   "id": "85f6f210",
   "metadata": {},
   "outputs": [
    {
     "name": "stdout",
     "output_type": "stream",
     "text": [
      "------Guess random number game-------\n",
      "*********************************************************\n",
      "Guess a number between 1 and 100 : 56\n",
      "You're wrong!!!!\n",
      "Entered number is lesser than guessing number.\n",
      "You have 2 more chances to guess\n",
      "*********************************************************\n",
      "Guess a number between 1 and 100 : 70\n",
      "You're wrong!!!!\n",
      "Entered number is greater than guessing number.\n",
      "You have 1 more chances to guess\n",
      "*********************************************************\n",
      "Guess a number between 1 and 100 : 68\n",
      "You're wrong!!!!\n",
      "Entered number is greater than guessing number.\n",
      "You have 0 more chances to guess\n",
      "Your chance is over.Better luck next time\n",
      "The number to guess was :  67\n"
     ]
    }
   ],
   "source": [
    "import random\n",
    "randomNumber = random.randint(1,100)\n",
    "MaxChance = 5\n",
    "chanceNumber = 0\n",
    "\n",
    "print(\"------Guess random number game-------\")\n",
    "while(1) :\n",
    "    if chanceNumber == MaxChance :\n",
    "        print(\"Your chance is over.Better luck next time\")\n",
    "        print(\"The number to guess was : \", randomNumber)\n",
    "        break\n",
    "    print(\"*********************************************************\")\n",
    "    userNumber = int(input(\"Guess a number between 1 and 100 : \"))\n",
    "    chanceNumber += 1\n",
    "    \n",
    "    if userNumber == randomNumber :\n",
    "        print(\"Congratulations!!!!! You won the game\")\n",
    "        break\n",
    "    elif userNumber < randomNumber :\n",
    "        print(\"You're wrong!!!!\")\n",
    "        print(\"Entered number is lesser than guessing number.\")\n",
    "        print(\"You have\", MaxChance - chanceNumber, \"more chances to guess\")\n",
    "    else :\n",
    "        print(\"You're wrong!!!!\")\n",
    "        print(\"Entered number is greater than guessing number.\")\n",
    "        print(\"You have\", MaxChance - chanceNumber, \"more chances to guess\")"
   ]
  },
  {
   "cell_type": "code",
   "execution_count": null,
   "id": "8930da9e",
   "metadata": {},
   "outputs": [],
   "source": []
  }
 ],
 "metadata": {
  "kernelspec": {
   "display_name": "Python 3 (ipykernel)",
   "language": "python",
   "name": "python3"
  },
  "language_info": {
   "codemirror_mode": {
    "name": "ipython",
    "version": 3
   },
   "file_extension": ".py",
   "mimetype": "text/x-python",
   "name": "python",
   "nbconvert_exporter": "python",
   "pygments_lexer": "ipython3",
   "version": "3.9.7"
  }
 },
 "nbformat": 4,
 "nbformat_minor": 5
}
