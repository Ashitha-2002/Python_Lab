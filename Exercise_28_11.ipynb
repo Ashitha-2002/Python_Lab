{
 "cells": [
  {
   "cell_type": "code",
   "execution_count": 14,
   "id": "a2176369",
   "metadata": {},
   "outputs": [
    {
     "name": "stdout",
     "output_type": "stream",
     "text": [
      "Original String :\n",
      " Department of Computer Science Mangalore University Mangalagangothri Dakshina Kannada\n",
      "List after splitting :\n",
      " ['Department', 'of', 'Computer', 'Science', 'Mangalore', 'University', 'Mangalagangothri', 'Dakshina', 'Kannada']\n",
      "University index : 5\n"
     ]
    }
   ],
   "source": [
    "txt = \"Department of Computer Science Mangalore University Mangalagangothri Dakshina Kannada\"\n",
    "list1= list(txt.split(\" \"))\n",
    "print(\"Original String :\\n\", txt)\n",
    "print(\"List after splitting :\\n\" ,list1)\n",
    "print(\"University index :\", list1.index('University'))"
   ]
  },
  {
   "cell_type": "code",
   "execution_count": 15,
   "id": "62e674cd",
   "metadata": {},
   "outputs": [
    {
     "name": "stdout",
     "output_type": "stream",
     "text": [
      "Original String\n",
      " Department of Computer Science Mangalore University Mangalagangothri Dakshina Kannada\n",
      "List after splitting\n",
      " ['Department', 'of', 'Computer', 'Science', 'Mangalore', 'University', 'Mangalagangothri', 'Dakshina']\n",
      "University index : 5\n"
     ]
    }
   ],
   "source": [
    "txt = \"Department of Computer Science Mangalore University Mangalagangothri Dakshina Kannada\"\n",
    "list1= []\n",
    "temp = ''\n",
    "index = -1\n",
    "for char in txt:\n",
    "    if char == ' ':\n",
    "        list1.append(temp)\n",
    "        temp = ''\n",
    "    else:\n",
    "        temp += char\n",
    "        \n",
    "for i in range(len(list1)):\n",
    "    if list1[i] == 'University':\n",
    "        index = i\n",
    "        \n",
    "print(\"Original String\\n\", txt)\n",
    "print(\"List after splitting\\n\" ,list1)\n",
    "print(\"University index :\", index)"
   ]
  },
  {
   "cell_type": "code",
   "execution_count": 6,
   "id": "53247a68",
   "metadata": {},
   "outputs": [
    {
     "name": "stdout",
     "output_type": "stream",
     "text": [
      "<class 'str'>\n",
      "Hello\n"
     ]
    }
   ],
   "source": [
    "myTuple = (\"Hello\")\n",
    "print(type(myTuple))\n",
    "print(myTuple)"
   ]
  },
  {
   "cell_type": "code",
   "execution_count": 7,
   "id": "17a31597",
   "metadata": {},
   "outputs": [
    {
     "name": "stdout",
     "output_type": "stream",
     "text": [
      "<class 'tuple'>\n",
      "('Hello',)\n"
     ]
    }
   ],
   "source": [
    "myTuple = (\"Hello\",)\n",
    "print(type(myTuple))\n",
    "print(myTuple)"
   ]
  },
  {
   "cell_type": "code",
   "execution_count": 9,
   "id": "309d584c",
   "metadata": {},
   "outputs": [
    {
     "name": "stdout",
     "output_type": "stream",
     "text": [
      "<class 'tuple'>\n",
      "('Hello', 'Welcome')\n"
     ]
    }
   ],
   "source": [
    "myTuple = \"Hello\", \"Welcome\"\n",
    "print(type(myTuple))\n",
    "print(myTuple)"
   ]
  },
  {
   "cell_type": "code",
   "execution_count": 18,
   "id": "30bb5e16",
   "metadata": {},
   "outputs": [
    {
     "name": "stdout",
     "output_type": "stream",
     "text": [
      "('John', [5, 3, 7], (3, 0, 1))\n",
      "('John', [5, 3, 4], (3, 0, 1))\n"
     ]
    },
    {
     "ename": "TypeError",
     "evalue": "'str' object does not support item assignment",
     "output_type": "error",
     "traceback": [
      "\u001b[1;31m---------------------------------------------------------------------------\u001b[0m",
      "\u001b[1;31mTypeError\u001b[0m                                 Traceback (most recent call last)",
      "\u001b[1;32m~\\AppData\\Local\\Temp/ipykernel_17648/3938814223.py\u001b[0m in \u001b[0;36m<module>\u001b[1;34m\u001b[0m\n\u001b[0;32m      3\u001b[0m \u001b[0mtuple1\u001b[0m\u001b[1;33m[\u001b[0m\u001b[1;36m1\u001b[0m\u001b[1;33m]\u001b[0m\u001b[1;33m[\u001b[0m\u001b[1;36m2\u001b[0m\u001b[1;33m]\u001b[0m \u001b[1;33m=\u001b[0m \u001b[1;36m4\u001b[0m\u001b[1;33m\u001b[0m\u001b[1;33m\u001b[0m\u001b[0m\n\u001b[0;32m      4\u001b[0m \u001b[0mprint\u001b[0m\u001b[1;33m(\u001b[0m\u001b[0mtuple1\u001b[0m\u001b[1;33m)\u001b[0m\u001b[1;33m\u001b[0m\u001b[1;33m\u001b[0m\u001b[0m\n\u001b[1;32m----> 5\u001b[1;33m \u001b[0mtuple1\u001b[0m\u001b[1;33m[\u001b[0m\u001b[1;36m0\u001b[0m\u001b[1;33m]\u001b[0m\u001b[1;33m[\u001b[0m\u001b[1;36m1\u001b[0m\u001b[1;33m]\u001b[0m \u001b[1;33m=\u001b[0m \u001b[1;34m\"a\"\u001b[0m\u001b[1;33m\u001b[0m\u001b[1;33m\u001b[0m\u001b[0m\n\u001b[0m\u001b[0;32m      6\u001b[0m \u001b[0mprint\u001b[0m\u001b[1;33m(\u001b[0m\u001b[0mtuple1\u001b[0m\u001b[1;33m)\u001b[0m\u001b[1;33m\u001b[0m\u001b[1;33m\u001b[0m\u001b[0m\n\u001b[0;32m      7\u001b[0m \u001b[1;31m# tuple1[2][0] = 2\u001b[0m\u001b[1;33m\u001b[0m\u001b[1;33m\u001b[0m\u001b[0m\n",
      "\u001b[1;31mTypeError\u001b[0m: 'str' object does not support item assignment"
     ]
    }
   ],
   "source": [
    "tuple1 = (\"John\", [5,3,7],(3,0,1))\n",
    "print(tuple1)\n",
    "tuple1[1][2] = 4\n",
    "print(tuple1)\n",
    "# tuple1[0] = \"Jack\"\n",
    "# print(tuple1)\n",
    "# tuple1[2][0] = 2\n",
    "# print(tuple1)"
   ]
  },
  {
   "cell_type": "code",
   "execution_count": 41,
   "id": "209b7890",
   "metadata": {},
   "outputs": [
    {
     "name": "stdout",
     "output_type": "stream",
     "text": [
      "(5, 3, 7, 3, 0, 1)\n",
      "Count of 3 :  2\n",
      "Index of 0 :  4\n",
      "Maximum element in tuple :  7\n",
      "Minimum element in tuple :  0\n",
      "Sorted list from tuple :  [0, 1, 3, 3, 5, 7]\n",
      "Sum of elements of tuple :  19\n",
      "Tuple from string :  ('H', 'e', 'l', 'l', 'o')\n",
      "Tuple from iterable :  (0, 1, 2, 3, 4)\n",
      "Enumerate Object : \n",
      "0 : 5\n",
      "1 : 3\n",
      "2 : 7\n",
      "3 : 3\n",
      "4 : 0\n",
      "5 : 1\n",
      "Length of tuple :  6\n"
     ]
    }
   ],
   "source": [
    "tuple1 = (5,3,7,3,0,1)\n",
    "print(tuple1)\n",
    "print(\"Count of 3 : \",tuple1.count(3))\n",
    "print(\"Index of 0 : \",tuple1.index(0))\n",
    "print(\"Maximum element in tuple : \", max(tuple1))\n",
    "print(\"Minimum element in tuple : \", min(tuple1))\n",
    "print(\"Sorted list from tuple : \",sorted(tuple1))\n",
    "print(\"Sum of elements of tuple : \", sum(tuple1))\n",
    "str1 = \"Hello\"\n",
    "tuple2 = tuple(str1)\n",
    "tuple3 = tuple(i for i in range(5))\n",
    "print(\"Tuple from string : \", tuple2)\n",
    "print(\"Tuple from iterable : \", tuple3)\n",
    "print(\"Enumerate Object : \")\n",
    "for i, val in enumerate(tuple1):\n",
    "    print(i, \":\", val)\n",
    "print(\"Length of tuple : \", len(tuple1))"
   ]
  },
  {
   "cell_type": "code",
   "execution_count": 37,
   "id": "103b452e",
   "metadata": {},
   "outputs": [
    {
     "name": "stdout",
     "output_type": "stream",
     "text": [
      "First tuple :  (1, 2, 3)\n",
      "Second tuple :  (4, 5, 6)\n",
      "Concatenated tuple :  (1, 2, 3, 4, 5, 6)\n",
      "Repetition of second tuple :  (4, 5, 6, 4, 5, 6)\n"
     ]
    }
   ],
   "source": [
    "my_tuple = (1, 2, 3)\n",
    "my_tuple2 = (4, 5, 6)\n",
    "print(\"First tuple : \", my_tuple)\n",
    "print(\"Second tuple : \", my_tuple2)\n",
    "print(\"Concatenated tuple : \", my_tuple + my_tuple2)\n",
    "print(\"Repetition of second tuple : \", my_tuple2 * 2)"
   ]
  },
  {
   "cell_type": "code",
   "execution_count": 50,
   "id": "839ccb8d",
   "metadata": {},
   "outputs": [
    {
     "name": "stdout",
     "output_type": "stream",
     "text": [
      "Enter the size : 5\n",
      "Enter a nmber :5\n",
      "Enter a nmber :2\n",
      "Enter a nmber :8\n",
      "Enter a nmber :6\n",
      "Enter a nmber :1\n",
      "Original List :  [5, 2, 8, 6, 1]\n",
      "1.Insert\n",
      "2.Remove\n",
      "3.Append\n",
      "4.Len\n",
      "5.Pop\n",
      "6.Clear\n",
      "7.Exit\n",
      "Enter a choice : 1\n",
      "Enter a value to insert : 3\n",
      "Enter index : 3\n",
      "List after insertion :  [5, 2, 8, 3, 6, 1]\n",
      "1.Insert\n",
      "2.Remove\n",
      "3.Append\n",
      "4.Len\n",
      "5.Pop\n",
      "6.Clear\n",
      "7.Exit\n",
      "Enter a choice : 2\n",
      "Enter a value to delete : 6\n",
      "List after removing element :  [5, 2, 8, 3, 1]\n",
      "1.Insert\n",
      "2.Remove\n",
      "3.Append\n",
      "4.Len\n",
      "5.Pop\n",
      "6.Clear\n",
      "7.Exit\n",
      "Enter a choice : 3\n",
      "Enter a value to append : 8\n",
      "List after appending a element :  [5, 2, 8, 3, 1, 8]\n",
      "1.Insert\n",
      "2.Remove\n",
      "3.Append\n",
      "4.Len\n",
      "5.Pop\n",
      "6.Clear\n",
      "7.Exit\n",
      "Enter a choice : 4\n",
      "Length of the list :  6\n",
      "1.Insert\n",
      "2.Remove\n",
      "3.Append\n",
      "4.Len\n",
      "5.Pop\n",
      "6.Clear\n",
      "7.Exit\n",
      "Enter a choice : 5\n",
      "poped element :  8\n",
      "List after poping last element :  [5, 2, 8, 3, 1]\n",
      "1.Insert\n",
      "2.Remove\n",
      "3.Append\n",
      "4.Len\n",
      "5.Pop\n",
      "6.Clear\n",
      "7.Exit\n",
      "Enter a choice : 6\n",
      "List after clear() :  None\n",
      "1.Insert\n",
      "2.Remove\n",
      "3.Append\n",
      "4.Len\n",
      "5.Pop\n",
      "6.Clear\n",
      "7.Exit\n",
      "Enter a choice : 7\n"
     ]
    }
   ],
   "source": [
    "list1 = [] \n",
    "n = int(input(\"Enter the size : \")) \n",
    "for i in range(n): \n",
    "    list1.append(int(input(\"Enter a nmber :\"))) \n",
    "print(\"Original List : \",list1) \n",
    "while(1):\n",
    "    print(\"1.Insert\\n2.Remove\\n3.Append\\n4.Len\\n5.Pop\\n6.Clear\\n7.Exit\")\n",
    "    ch = int(input(\"Enter a choice : \"))\n",
    "    if ch == 1:\n",
    "        ele = int(input(\"Enter a value to insert : \"))\n",
    "        index = int(input(\"Enter index : \"))\n",
    "        list1.insert(index, ele)\n",
    "        print(\"List after insertion : \", list1)\n",
    "    elif ch == 2:\n",
    "        ele = int(input(\"Enter a value to delete : \"))\n",
    "        if ele in list1:\n",
    "            list1.remove(ele)\n",
    "            print(\"List after removing element : \", list1)\n",
    "        else:\n",
    "            print(\"Entered element does not exist in the list\")\n",
    "    elif ch == 3:\n",
    "        ele = int(input(\"Enter a value to append : \"))\n",
    "        list1.append(ele)\n",
    "        print(\"List after appending a element : \", list1)\n",
    "    elif ch == 4:\n",
    "        print(\"Length of the list : \", len(list1))\n",
    "    elif ch == 5:\n",
    "        if len(list1) == 0:\n",
    "            print(\"Cannot pop as list is empty\")\n",
    "        else:\n",
    "            print(\"poped element : \", list1.pop())\n",
    "            print(\"List after poping last element : \", list1)\n",
    "    elif ch == 6:\n",
    "        print(\"List after clear() : \", list1.clear())\n",
    "    elif ch == 7:\n",
    "        break\n",
    "    else:\n",
    "        print(\"Invalid choice. please eneter a valid choice\")"
   ]
  },
  {
   "cell_type": "code",
   "execution_count": 56,
   "id": "f883d50a",
   "metadata": {},
   "outputs": [
    {
     "name": "stdout",
     "output_type": "stream",
     "text": [
      "Enter first string : Welcom!!\n",
      "Enter second string : Good Afternoon\n",
      "First string :  Welcom!!\n",
      "Second string :  Good Afternoon\n",
      "Concatenated string :  Welcom!!Good Afternoon\n",
      "substring of concatenated string is :  lco\n",
      "Length of the concatenated string is :  22\n",
      "Enter a character to find the index : a\n",
      "Character not found!\n",
      "Slicing of concatenated string is :  com!!Good Afternoon\n",
      "Two strings are not equal\n"
     ]
    }
   ],
   "source": [
    "txt1 = input(\"Enter first string : \")\n",
    "txt2 = input(\"Enter second string : \")\n",
    "print(\"First string : \", txt1)\n",
    "print(\"Second string : \", txt2)\n",
    "txt3 = txt1 + txt2\n",
    "print(\"Concatenated string : \", txt3)\n",
    "print(\"substring of concatenated string is : \", txt3[2:5])\n",
    "print(\"Length of the concatenated string is : \", len(txt3))\n",
    "ch = input(\"Enter a character to find the index : \")\n",
    "if ch in txt3:\n",
    "    print(\"Index of\",ch,\"is\",txt3.index(ch))\n",
    "else:\n",
    "    print(\"Character not found!\")\n",
    "print(\"Slicing of concatenated string is : \", txt3[3:])\n",
    "if txt1 == txt2:\n",
    "    print(\"Two strings are equal\")\n",
    "else:\n",
    "    print(\"Two strings are not equal\")"
   ]
  },
  {
   "cell_type": "code",
   "execution_count": null,
   "id": "e92cdae7",
   "metadata": {},
   "outputs": [],
   "source": []
  }
 ],
 "metadata": {
  "kernelspec": {
   "display_name": "Python 3 (ipykernel)",
   "language": "python",
   "name": "python3"
  },
  "language_info": {
   "codemirror_mode": {
    "name": "ipython",
    "version": 3
   },
   "file_extension": ".py",
   "mimetype": "text/x-python",
   "name": "python",
   "nbconvert_exporter": "python",
   "pygments_lexer": "ipython3",
   "version": "3.9.7"
  }
 },
 "nbformat": 4,
 "nbformat_minor": 5
}
