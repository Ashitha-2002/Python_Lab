{
 "cells": [
  {
   "cell_type": "code",
   "execution_count": 2,
   "id": "0d0c5e62",
   "metadata": {},
   "outputs": [
    {
     "name": "stdout",
     "output_type": "stream",
     "text": [
      "Enter the number of salesmen: 3\n",
      "Enter the name of salesman 1: David\n",
      "Enter sales for week 1: 34000\n",
      "Enter sales for week 2: 27800\n",
      "Enter sales for week 3: 12000\n",
      "Enter sales for week 4: 3500\n",
      "Enter the name of salesman 2: John\n",
      "Enter sales for week 1: 5000\n",
      "Enter sales for week 2: 2500\n",
      "Enter sales for week 3: 12600\n",
      "Enter sales for week 4: 8900\n",
      "Enter the name of salesman 3: Jack\n",
      "Enter sales for week 1: 38000\n",
      "Enter sales for week 2: 25000\n",
      "Enter sales for week 3: 42000\n",
      "Enter sales for week 4: 28000\n",
      "\n",
      "David's Total Sales: 77300, Commission: 3865.0, Remarks: Good\n",
      "\n",
      "John's Total Sales: 29000, Commission: 0, Remarks: Work Hard\n",
      "\n",
      "Jack's Total Sales: 133000, Commission: 6650.0, Remarks: Excellent\n"
     ]
    }
   ],
   "source": [
    "def calculate_sales(sales_per_week):\n",
    "    total_sales = sum(sales_per_week)\n",
    "    commission_rate = 0.05\n",
    "    commission = 0\n",
    "\n",
    "    if total_sales >= 50000:\n",
    "        commission = total_sales * commission_rate\n",
    "\n",
    "    remarks = \"\"\n",
    "    if total_sales >= 80000:\n",
    "        remarks = \"Excellent\"\n",
    "    elif total_sales >= 60000:\n",
    "        remarks = \"Good\"\n",
    "    elif total_sales >= 40000:\n",
    "        remarks = \"Average\"\n",
    "    else:\n",
    "        remarks = \"Work Hard\"\n",
    "\n",
    "    return total_sales, commission, remarks\n",
    "\n",
    "num_salesmen = int(input(\"Enter the number of salesmen: \"))\n",
    "salesman_data = []\n",
    "\n",
    "for i in range(num_salesmen):\n",
    "    name = input(f\"Enter the name of salesman {i + 1}: \")\n",
    "    weekly_sales = [int(input(f\"Enter sales for week {j + 1}: \")) for j in range(4)]  # Assuming 4 weeks in a month\n",
    "    salesman_data.append((name, weekly_sales))\n",
    "\n",
    "for name, weekly_sales in salesman_data:\n",
    "    total_sales, commission, remarks = calculate_sales(weekly_sales)\n",
    "    print(f\"\\n{name}'s Total Sales: {total_sales}, Commission: {commission}, Remarks: {remarks}\")"
   ]
  },
  {
   "cell_type": "code",
   "execution_count": null,
   "id": "b20a846a",
   "metadata": {},
   "outputs": [],
   "source": []
  }
 ],
 "metadata": {
  "kernelspec": {
   "display_name": "Python 3 (ipykernel)",
   "language": "python",
   "name": "python3"
  },
  "language_info": {
   "codemirror_mode": {
    "name": "ipython",
    "version": 3
   },
   "file_extension": ".py",
   "mimetype": "text/x-python",
   "name": "python",
   "nbconvert_exporter": "python",
   "pygments_lexer": "ipython3",
   "version": "3.9.7"
  }
 },
 "nbformat": 4,
 "nbformat_minor": 5
}
