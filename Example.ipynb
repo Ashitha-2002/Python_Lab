{
  "cells": [
    {
      "cell_type": "markdown",
      "metadata": {
        "id": "view-in-github",
        "colab_type": "text"
      },
      "source": [
        "<a href=\"https://colab.research.google.com/github/Ashitha-2002/Python_Lab/blob/main/Example.ipynb\" target=\"_parent\"><img src=\"https://colab.research.google.com/assets/colab-badge.svg\" alt=\"Open In Colab\"/></a>"
      ]
    },
    {
      "cell_type": "code",
      "execution_count": null,
      "id": "68ad585e",
      "metadata": {
        "id": "68ad585e",
        "outputId": "827f09c4-6dd1-442f-874c-1853a34f95d5"
      },
      "outputs": [
        {
          "name": "stdout",
          "output_type": "stream",
          "text": [
            "Hello World!!!\n"
          ]
        }
      ],
      "source": [
        "print(\"Hello World!!!\")"
      ]
    },
    {
      "cell_type": "code",
      "execution_count": null,
      "id": "d9daa3c9",
      "metadata": {
        "id": "d9daa3c9",
        "outputId": "36be5967-ea5a-437a-fe05-4f3701c73d66"
      },
      "outputs": [
        {
          "name": "stdout",
          "output_type": "stream",
          "text": [
            "Sum :  15\n"
          ]
        }
      ],
      "source": [
        "a = 5\n",
        "b = 10\n",
        "sum = a + b\n",
        "print(\"Sum : \",sum)"
      ]
    },
    {
      "cell_type": "code",
      "execution_count": null,
      "id": "ccf4c3b9",
      "metadata": {
        "id": "ccf4c3b9",
        "outputId": "06968c4a-4687-4c5a-fed1-e0cdc340e84a"
      },
      "outputs": [
        {
          "name": "stdout",
          "output_type": "stream",
          "text": [
            "1\n",
            "2\n",
            "3\n",
            "4\n",
            "5\n",
            "6\n",
            "7\n",
            "8\n",
            "9\n",
            "10\n"
          ]
        }
      ],
      "source": [
        "for i in range(1,11):\n",
        "    print(i)"
      ]
    },
    {
      "cell_type": "code",
      "execution_count": null,
      "id": "d28a085a",
      "metadata": {
        "id": "d28a085a"
      },
      "outputs": [],
      "source": []
    }
  ],
  "metadata": {
    "kernelspec": {
      "display_name": "Python 3 (ipykernel)",
      "language": "python",
      "name": "python3"
    },
    "language_info": {
      "codemirror_mode": {
        "name": "ipython",
        "version": 3
      },
      "file_extension": ".py",
      "mimetype": "text/x-python",
      "name": "python",
      "nbconvert_exporter": "python",
      "pygments_lexer": "ipython3",
      "version": "3.9.7"
    },
    "colab": {
      "provenance": [],
      "include_colab_link": true
    }
  },
  "nbformat": 4,
  "nbformat_minor": 5
}