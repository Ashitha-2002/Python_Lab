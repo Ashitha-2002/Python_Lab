{
 "cells": [
  {
   "cell_type": "code",
   "execution_count": 7,
   "id": "96ba1da0",
   "metadata": {},
   "outputs": [
    {
     "name": "stdout",
     "output_type": "stream",
     "text": [
      "[90, 78, 45, 63, 82]\n",
      "['David', 'Ravi', 'Ramya', 'Arun', 'Isha']\n",
      "Length of marks list :  5\n",
      "Sum : 358\n",
      "Max in marks List :  90\n",
      "Max in names List :  Ravi\n",
      "Min in marks List :  45\n",
      "Min in names List :  Arun\n"
     ]
    }
   ],
   "source": [
    "marks = [90, 78, 45, 63, 82]\n",
    "names = [\"David\", \"Ravi\", \"Ramya\", \"Arun\", \"Isha\"]\n",
    "print(marks)\n",
    "print(names)\n",
    "print(\"Length of marks list : \", len(marks))\n",
    "print(\"Sum :\" ,sum(marks))\n",
    "#print(sum(names))\n",
    "print(\"Max in marks List : \",max(marks))\n",
    "print(\"Max in names List : \",max(names))\n",
    "print(\"Min in marks List : \",min(marks))\n",
    "print(\"Min in names List : \",min(names))"
   ]
  },
  {
   "cell_type": "code",
   "execution_count": 37,
   "id": "b819b7ba",
   "metadata": {},
   "outputs": [
    {
     "name": "stdout",
     "output_type": "stream",
     "text": [
      "['apple', 'Kiwi', 'banana', 'Watermelon', 'pineapple', 'Avacado']\n",
      "Max :  pineapple\n",
      "Min :  Avacado\n"
     ]
    }
   ],
   "source": [
    "fruits = [\"apple\", \"Kiwi\", \"banana\", \"Watermelon\", \"pineapple\", \"Avacado\"]\n",
    "print(fruits)\n",
    "print(\"Max : \",max(fruits))\n",
    "print(\"Min : \",min(fruits))"
   ]
  },
  {
   "cell_type": "code",
   "execution_count": 12,
   "id": "ee019f56",
   "metadata": {},
   "outputs": [
    {
     "name": "stdout",
     "output_type": "stream",
     "text": [
      "['Apple', 5.6, 'Kiwi', 6]\n"
     ]
    }
   ],
   "source": [
    "mixedTypeList = [\"Apple\", 5.6, \"Kiwi\", 6]\n",
    "print(mixedTypeList)\n",
    "#print(sum(mixedTypeList))\n",
    "#print(max(mixedTypeList))\n",
    "#print(min(mixedTypeList))"
   ]
  },
  {
   "cell_type": "code",
   "execution_count": 13,
   "id": "f0f6a682",
   "metadata": {},
   "outputs": [
    {
     "name": "stdout",
     "output_type": "stream",
     "text": [
      "90\n",
      "78\n",
      "45\n",
      "63\n",
      "82\n",
      "First element :  90\n",
      "Last element :  82\n",
      "Slice of the list :  [45, 63]\n"
     ]
    }
   ],
   "source": [
    "marks = [90, 78, 45, 63, 82]\n",
    "for i in marks:\n",
    "    print(i)\n",
    "    \n",
    "print(\"First element : \",marks[0])\n",
    "print(\"Last element : \",marks[-1])\n",
    "print(\"Slice of the list : \",marks[2:4])"
   ]
  },
  {
   "cell_type": "code",
   "execution_count": 14,
   "id": "4880632d",
   "metadata": {},
   "outputs": [
    {
     "name": "stdout",
     "output_type": "stream",
     "text": [
      "[1, 2, 3]\n",
      "[1, 2, 3, 1, 2, 3]\n"
     ]
    }
   ],
   "source": [
    "list1 = [1, 2,3]\n",
    "print(list1)\n",
    "print(list1 * 2)"
   ]
  },
  {
   "cell_type": "code",
   "execution_count": 4,
   "id": "6c0ec19f",
   "metadata": {},
   "outputs": [
    {
     "ename": "NameError",
     "evalue": "name 'num111' is not defined",
     "output_type": "error",
     "traceback": [
      "\u001b[1;31m---------------------------------------------------------------------------\u001b[0m",
      "\u001b[1;31mNameError\u001b[0m                                 Traceback (most recent call last)",
      "\u001b[1;32m~\\AppData\\Local\\Temp/ipykernel_11828/3760266783.py\u001b[0m in \u001b[0;36m<module>\u001b[1;34m\u001b[0m\n\u001b[1;32m----> 1\u001b[1;33m \u001b[0mprint\u001b[0m\u001b[1;33m(\u001b[0m\u001b[0mnum111\u001b[0m\u001b[1;33m)\u001b[0m\u001b[1;33m\u001b[0m\u001b[1;33m\u001b[0m\u001b[0m\n\u001b[0m",
      "\u001b[1;31mNameError\u001b[0m: name 'num111' is not defined"
     ]
    }
   ],
   "source": [
    "print(num111)"
   ]
  },
  {
   "cell_type": "code",
   "execution_count": 10,
   "id": "4e1ac024",
   "metadata": {},
   "outputs": [
    {
     "name": "stdout",
     "output_type": "stream",
     "text": [
      "Enter how many natural numbers : 10\n",
      "Natural numbers are\n",
      "1 2 3 4 5 6 7 8 9 10 \n",
      "Sum is :  55\n"
     ]
    }
   ],
   "source": [
    "numSum = 0\n",
    "i = 1\n",
    "num = int(input(\"Enter how many natural numbers : \"))\n",
    "print(\"Natural numbers are\")\n",
    "while i <= num:\n",
    "    print(i, end = \" \")\n",
    "    numSum += i\n",
    "    i += 1\n",
    "print(\"\\nSum is : \",numSum)"
   ]
  },
  {
   "cell_type": "code",
   "execution_count": 13,
   "id": "4e2cb29e",
   "metadata": {},
   "outputs": [
    {
     "name": "stdout",
     "output_type": "stream",
     "text": [
      "Enter how many natural numbers : 10\n",
      "Natural numbers are\n",
      "10 9 8 7 6 5 4 3 2 1 "
     ]
    }
   ],
   "source": [
    "num = int(input(\"Enter how many natural numbers : \"))\n",
    "print(\"Natural numbers are\")\n",
    "while num > 0:\n",
    "    print(num, end = \" \")\n",
    "    num -= 1"
   ]
  },
  {
   "cell_type": "code",
   "execution_count": 17,
   "id": "fd5e1cb5",
   "metadata": {},
   "outputs": [
    {
     "name": "stdout",
     "output_type": "stream",
     "text": [
      "Enter how many natural numbers : 10\n",
      "Natural numbers are\n",
      "10 9 8 7 6 5 4 3 2 1 "
     ]
    }
   ],
   "source": [
    "num = int(input(\"Enter how many natural numbers : \"))\n",
    "print(\"Natural numbers are\")\n",
    "for i in range(num, 0 , -1):\n",
    "    print(i, end = \" \")"
   ]
  },
  {
   "cell_type": "code",
   "execution_count": 29,
   "id": "56db973d",
   "metadata": {},
   "outputs": [
    {
     "name": "stdout",
     "output_type": "stream",
     "text": [
      "Enter a number : 121\n",
      "Entered number is palindrome\n"
     ]
    }
   ],
   "source": [
    "num = int(input(\"Enter a number : \"))\n",
    "temp = num\n",
    "rev = 0\n",
    "while num > 0:\n",
    "    rem = num % 10\n",
    "    rev = (rev * 10) + rem\n",
    "    num = num // 10\n",
    "if rev == temp:\n",
    "    print(\"Entered number is palindrome\")\n",
    "else:\n",
    "    print(\"Entered number is not palindrome\")"
   ]
  },
  {
   "cell_type": "code",
   "execution_count": 40,
   "id": "fd5a95a6",
   "metadata": {},
   "outputs": [
    {
     "name": "stdout",
     "output_type": "stream",
     "text": [
      "10\n",
      "8\n",
      "6\n",
      "4\n",
      "2\n"
     ]
    }
   ],
   "source": [
    "for i in range(10,0, -2):\n",
    "    print(i)"
   ]
  },
  {
   "cell_type": "code",
   "execution_count": 33,
   "id": "26c1c5c9",
   "metadata": {},
   "outputs": [
    {
     "name": "stdout",
     "output_type": "stream",
     "text": [
      "Enther how many number of lines ? : 5\n",
      "* \n",
      "* * \n",
      "* * * \n",
      "* * * * \n",
      "* * * * * \n"
     ]
    }
   ],
   "source": [
    "n = int(input(\"Enther how many number of lines ? : \"))\n",
    "for i in range(n):\n",
    "    for j in range(i+1):\n",
    "        print(\"*\", end = \" \")\n",
    "    print()"
   ]
  },
  {
   "cell_type": "code",
   "execution_count": 43,
   "id": "16e7f00e",
   "metadata": {},
   "outputs": [
    {
     "name": "stdout",
     "output_type": "stream",
     "text": [
      "Enther how many number of lines ? : 5\n",
      "* * * * * \n",
      "* * * * \n",
      "* * * \n",
      "* * \n",
      "* \n"
     ]
    }
   ],
   "source": [
    "n = int(input(\"Enther how many number of lines ? : \"))\n",
    "for i in range(n, 0, -1):\n",
    "    for j in range(i):\n",
    "        print(\"*\", end = \" \")\n",
    "    print()"
   ]
  },
  {
   "cell_type": "code",
   "execution_count": 54,
   "id": "7379ab6a",
   "metadata": {},
   "outputs": [
    {
     "name": "stdout",
     "output_type": "stream",
     "text": [
      "Enther how many number of lines ? : 5\n",
      "A \n",
      "A B \n",
      "A B C \n",
      "A B C D \n",
      "A B C D E \n"
     ]
    }
   ],
   "source": [
    "n = int(input(\"Enther how many number of lines ? : \"))\n",
    "for i in range(n):\n",
    "    ch = 'A'\n",
    "    for j in range(i+1):\n",
    "        print(ch, end = \" \")\n",
    "        ch = chr(ord(ch) + 1)\n",
    "    print() "
   ]
  },
  {
   "cell_type": "code",
   "execution_count": 55,
   "id": "6b24e950",
   "metadata": {},
   "outputs": [
    {
     "name": "stdout",
     "output_type": "stream",
     "text": [
      "Enther how many number of lines ? : 6\n",
      "A \n",
      "A B \n",
      "A B C \n",
      "A B C D \n",
      "A B C D E \n",
      "A B C D E F \n"
     ]
    }
   ],
   "source": [
    "n = int(input(\"Enther how many number of lines ? : \"))\n",
    "for i in range(n):\n",
    "    ch = 65\n",
    "    for j in range(i+1):\n",
    "        print(chr(ch), end = \" \")\n",
    "        ch += 1 \n",
    "    print() "
   ]
  },
  {
   "cell_type": "code",
   "execution_count": 9,
   "id": "51d04c2b",
   "metadata": {},
   "outputs": [
    {
     "name": "stdout",
     "output_type": "stream",
     "text": [
      "Enther how many number of lines ? : 5\n",
      "     * \n",
      "    * * \n",
      "   * * * \n",
      "  * * * * \n",
      " * * * * * \n"
     ]
    }
   ],
   "source": [
    "n = int(input(\"Enther how many number of lines ? : \"))\n",
    "for i in range(n):\n",
    "    for j in range(n - i):\n",
    "        print(end = \" \")\n",
    "    for k in range(i+1):\n",
    "        print(\"*\", end = \" \")\n",
    "    print()"
   ]
  },
  {
   "cell_type": "code",
   "execution_count": 21,
   "id": "a33ec24e",
   "metadata": {},
   "outputs": [
    {
     "name": "stdout",
     "output_type": "stream",
     "text": [
      "Enter the range : 10\n",
      "0 1 1 2 3 5 8 13 21 34 "
     ]
    }
   ],
   "source": [
    "num = int(input(\"Enter the range : \"))\n",
    "f1 = 0\n",
    "f2 = 1\n",
    "for i in range(num):\n",
    "    print(f1, end = \" \")\n",
    "    f3 = f1 + f2\n",
    "    f1 = f2\n",
    "    f2 = f3"
   ]
  },
  {
   "cell_type": "code",
   "execution_count": 22,
   "id": "d97b07e9",
   "metadata": {},
   "outputs": [
    {
     "name": "stdout",
     "output_type": "stream",
     "text": [
      "Enter the range : 10\n",
      "0 1 1 2 3 5 8 13 21 34 "
     ]
    }
   ],
   "source": [
    "num = int(input(\"Enter the range : \"))\n",
    "f1 = 0\n",
    "f2 = 1\n",
    "print(f1, f2, end = \" \")\n",
    "for i in range(num - 2):\n",
    "    f3 = f1 + f2\n",
    "    f1 = f2\n",
    "    f2 = f3\n",
    "    print(f3, end = \" \")"
   ]
  },
  {
   "cell_type": "code",
   "execution_count": 24,
   "id": "dad05f01",
   "metadata": {},
   "outputs": [
    {
     "name": "stdout",
     "output_type": "stream",
     "text": [
      "Enter a number : 5\n",
      "Factorial of 5 is 120\n"
     ]
    }
   ],
   "source": [
    "n = int(input(\"Enter a number : \"))\n",
    "fact = 1\n",
    "for i in range(1 , n+1):\n",
    "    fact *= i\n",
    "print(\"Factorial of\",n,\"is\",fact)"
   ]
  },
  {
   "cell_type": "code",
   "execution_count": null,
   "id": "5c667a76",
   "metadata": {},
   "outputs": [],
   "source": []
  }
 ],
 "metadata": {
  "kernelspec": {
   "display_name": "Python 3 (ipykernel)",
   "language": "python",
   "name": "python3"
  },
  "language_info": {
   "codemirror_mode": {
    "name": "ipython",
    "version": 3
   },
   "file_extension": ".py",
   "mimetype": "text/x-python",
   "name": "python",
   "nbconvert_exporter": "python",
   "pygments_lexer": "ipython3",
   "version": "3.9.7"
  }
 },
 "nbformat": 4,
 "nbformat_minor": 5
}
